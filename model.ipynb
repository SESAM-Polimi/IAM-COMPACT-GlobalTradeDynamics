{
 "cells": [
  {
   "cell_type": "markdown",
   "metadata": {},
   "source": [
    "# IAM COMPACT - Study 8 - Global Trade Dynamics\n",
    "<br>\n",
    "\n",
    "### Supply-Use Input-Output model for impact assessment of different import patterns on key European energy commodities (i.e. BEVs)  MARIO model based on EXIOBASE HYBRID v3.3.18\n",
    "<br>\n",
    "The model proposed in this repository is built using the MARIO framework, starting from the Exiobase Hybrid v3.3.18 multi-regional input-output database, properly adjusted and extended for the purposes of this study.  \n",
    "\n",
    "<br>\n",
    "Main references for software and tools and data sources:\n",
    "\n",
    "- Tahavori et al., 2023, ‘MARIO: A Versatile and User-Friendly Software for Building Input-Output Models’, <i>Journal of Open Research Software</i>, 11(1 ), p. 14. Available at: https://doi.org/10.5334/jors.473.\n",
    "- Merciai & Schmidt, 2021, 'EXIOBASE HYBRID v3 - 2011 (3.3.18)', <i>Zenodo</i>. Available at: https://doi.org/10.5281/zenodo.10148587\n",
    "- EMBER, 2024, 'Yearly Electricity Data'. Available at: https://ember-energy.org/data/yearly-electricity-data/ \n",
    "\n",
    "<br>\n",
    "<br>\n",
    "<br>\n",
    "\n",
    "\n",
    "### Outline\n",
    "<br>\n",
    "This notebook allows to replicate the modelling exercise starting from the parsing of the raw database, the implmentation of updated electricity mixes as well as the fixing of some out-of-scale value added coefficients in some key sectors for the analysis.\n",
    "<br>\n",
    "\n",
    "- [Software installation](#software-installation)\n",
    "- [Database download](#database-download)\n",
    "- [Baseline building](#baseline-building)\n",
    "    - [Setting paths YAML](#setting-paths-yaml)\n",
    "    - [Parsing and aggregating raw database](#parsing-and-aggregating-raw-database)\n",
    "    - [Updating raw database electricity mixes and value added coefficients](#updating-raw-database-electricity-mixes-and-value-added-coefficients)\n",
    "    - [Adding new supply chains](#adding-new-supply-chains)\n",
    "    - [Exporting baseline database](#exporting-baseline-database)\n",
    "\n",
    "<br>\n",
    "<br>\n",
    "<br>\n",
    "\n",
    "---\n",
    "\n",
    "<br>\n"
   ]
  },
  {
   "cell_type": "markdown",
   "metadata": {},
   "source": [
    "### Software installation\n",
    "\n",
    "<br>\n",
    "(<i>last update 13th November 2024</i>),\n",
    "<br>\n",
    "<br>\n",
    "\n",
    "This model runs on Python 3.10 and adopts a specific branch from MARIO GitHub repository, not yet available from installation via pip. Therefore, you need to:\n",
    "<br>\n",
    "<br>\n",
    "\n",
    "1. Clone the repository in a given directory: \n",
    "   \n",
    "   git clone https://github.com/it-is-me-mario/MARIO.git <target_folder>\n",
    "   \n",
    "   <br>\n",
    "\n",
    "2. Ensure to locate your terminal in the correct directory path\n",
    "\n",
    "   cd <target_folder>\n",
    "   \n",
    "   <br>\n",
    "   \n",
    "3. Checkout to the correct branch, named 'dev_addsector_improved'\n",
    "\n",
    "   git checkout dev_addsector_improved\n",
    "\n",
    "    <br>\n",
    "\n",
    "4. Once you installed the correct version of MARIO, create a new python environment.\n",
    "\n",
    "   conda create -n NAME_OF_ENVIRONMENT python=3.10\n",
    "\n",
    "   <br>\n",
    "   \n",
    "5. Install the local version of MARIO by running the following commands \n",
    "\n",
    "   python setup.py sdist bdist_wheel\n",
    "\n",
    "   python -m pip install -e . \n",
    "\n",
    "   <br>\n",
    "\n",
    "6. To run this model, other two packages are needed: pint and country_converter. They can be installed via pip:\n",
    "\n",
    "   pip install pint\n",
    "\n",
    "   pip install country_converter\n",
    "\n",
    "   <br>\n",
    "\n",
    "7. Due to some recent issues in pint, you need also a specific version of the flexparser package\n",
    "\n",
    "   pip install flexparser==0.3.1\n",
    "\n",
    "   <br>\n",
    "\n",
    "You should be all set at this point\n",
    "\n",
    "<br>\n",
    "<br>\n",
    "<br>\n",
    "\n",
    "---\n",
    "\n",
    "<br>\n"
   ]
  },
  {
   "cell_type": "markdown",
   "metadata": {},
   "source": [
    "### Database download \n",
    "\n",
    "The raw database used for this model is Exiobase Hybrid v3.3.18.  \n",
    "Download the whole folder from the [Zenodo repository](https://zenodo.org/records/10148587).\n",
    "\n",
    "Save it to a desired directory.\n",
    "\n",
    "<br>\n",
    "<br>\n",
    "<br>\n",
    "\n",
    "---\n",
    "\n",
    "<br>\n"
   ]
  },
  {
   "cell_type": "markdown",
   "metadata": {},
   "source": [
    "### Baseline building \n",
    "\n",
    "To build the baseline of this model, several steps are required. \n",
    "\n",
    "#### Setting paths YAML\n",
    "First of all, you need to properly set the paths YAML file, specifically:\n",
    "- <i>database/exiobase</i>: provide here the folder where you stored the raw Exiobase database downloaded from Zenodo\n",
    "- <i>database/baseline</i>: provide here the folder where you intend to store the baseline database once it's ready\n",
    "\n",
    "<br> \n",
    "Continue by importing dependencies and loading the YAML file."
   ]
  },
  {
   "cell_type": "code",
   "execution_count": null,
   "metadata": {},
   "outputs": [],
   "source": [
    "import mario\n",
    "import yaml\n",
    "import os\n",
    "\n",
    "with open('paths.yml', 'r') as file:\n",
    "    paths = yaml.safe_load(file)\n"
   ]
  },
  {
   "cell_type": "markdown",
   "metadata": {},
   "source": [
    "#### Parsing and aggregating raw database\n",
    "Parse the raw database with MARIO"
   ]
  },
  {
   "cell_type": "code",
   "execution_count": null,
   "metadata": {},
   "outputs": [],
   "source": [
    "db = mario.parse_from_txt(\n",
    "    path = os.path.join(paths['database']['exiobase'],'flows'),     # specify the inner \"flows\" folder\n",
    "    mode = 'flows',                                                 # specify the mode (flows or coefficients)\n",
    "    table = 'SUT',                                                  # the table is in SUT format\n",
    "    )"
   ]
  },
  {
   "cell_type": "markdown",
   "metadata": {},
   "source": [
    "A first level of aggregation is needed on the electricity commodities and activities, in order to update the electricity mixes from 2011 to 2023 (supported by latest data available on the EMBER database). Updating the electricity mixes helps in providing a more realistic representation of the current state of the energy system, which is also the major global source of GHG emissions.\n",
    "\n",
    "<br>\n",
    "A MARIO template is already provided in this repository and we use MARIO 'aggregate' method to perform the aggregation"
   ]
  },
  {
   "cell_type": "code",
   "execution_count": null,
   "metadata": {},
   "outputs": [],
   "source": [
    "import warnings\n",
    "warnings.filterwarnings(\"ignore\")   # ignore warnings from other libraries (i.e. pandas) which may be misleading for the scope of this model\n",
    "\n",
    "db.aggregate(\n",
    "    io = paths['mario_templates']['aggregations']['raw_to_baseline'],\n",
    "    ignore_nan=True, \n",
    "    )"
   ]
  },
  {
   "cell_type": "markdown",
   "metadata": {},
   "source": [
    "We need to import the updated electricity mixes from EMBER data, and map such data with the regional granularity of EXIOBASE. A dedicated function is available in the <i>supporting_functions/ember_remapping.map_ember_to_classification</i> script, which exploits the <i>country_converter</i> Python library and the EMBER data that are already provided in this repository "
   ]
  },
  {
   "cell_type": "code",
   "execution_count": null,
   "metadata": {},
   "outputs": [],
   "source": [
    "from supporting_functions.ember_remapping import map_ember_to_classification\n",
    "\n",
    "ee_mix = map_ember_to_classification(\n",
    "    path = paths['data']['ember'],\n",
    "    classification = 'EXIO3',\n",
    "    year = 2023,\n",
    "    mode = 'mix',\n",
    ")"
   ]
  },
  {
   "cell_type": "markdown",
   "metadata": {},
   "source": [
    "#### Updating raw database electricity mixes and value added coefficients\n",
    "The electricity mix update can be done by using the traditional shock function in MARIO, but we prepared a more efficient one tailored for this application. "
   ]
  },
  {
   "cell_type": "code",
   "execution_count": null,
   "metadata": {},
   "outputs": [],
   "source": [
    "from supporting_functions.raw_database_update import electricity_mixes\n",
    "\n",
    "db = electricity_mixes(db, ee_mix)"
   ]
  },
  {
   "cell_type": "markdown",
   "metadata": {},
   "source": [
    "Other specific coefficients of some key industrial activities where considered out of scale and where fixed in this application. Check the <i>supporting_functions/raw_database_update.value_added_coefficients</i> function for more details "
   ]
  },
  {
   "cell_type": "code",
   "execution_count": null,
   "metadata": {},
   "outputs": [],
   "source": [
    "from supporting_functions.raw_database_update import value_added_coefficients\n",
    "\n",
    "db = value_added_coefficients(db)"
   ]
  },
  {
   "cell_type": "markdown",
   "metadata": {},
   "source": [
    "#### Adding new supply chains\n",
    "\n",
    "At this stage, we need to add the new supply chains, characterized in the <i>inputs/inventories/master.xlsx</i> file. \n",
    "\n",
    "\n",
    "The new activities represent the manufacturing of LFP, NMC, NCA batteries and electric vehicles at global level and are added as an extension to the raw Exiobase database in a similar way as was done by [Rinaldi et al. (2024)](https://iopscience.iop.org/article/10.1088/1748-9326/ad5bf1) (hybrid LCA approach)."
   ]
  },
  {
   "cell_type": "code",
   "execution_count": null,
   "metadata": {},
   "outputs": [],
   "source": [
    "db.read_add_sectors_excel(paths['data']['inventories'],read_inventories=True)  # read inventories from excel file\n",
    "db.add_sectors()  # add sectors to the database"
   ]
  },
  {
   "cell_type": "markdown",
   "metadata": {},
   "source": [
    "While the <i>inputs/inventories/master.xlsx</i> file introduces the new activities in all countries, it assumes each country manufactures the new commodities fully domestically. \n",
    "\n",
    "<br>\n",
    "The import shares of given commodities (i.e. batteries) need to be updated. The data used are available in <i>inputs/scenarios/import_shares.xlsx</i>. Here we provided import shares for the baseline but also for other scenarios implemented later.\n",
    "\n",
    "<br>\n",
    "\n",
    "Again, the shock function of MARIO was bypassed by a tailored function for this application"
   ]
  },
  {
   "cell_type": "code",
   "execution_count": null,
   "metadata": {},
   "outputs": [],
   "source": [
    "from supporting_functions.raw_database_update import get_import_shares\n",
    "from supporting_functions.raw_database_update import import_coefficients\n",
    "\n",
    "import_shares, regions_clusters, commodities_clusters = get_import_shares(paths['data']['import_shares'])\n",
    "db = import_coefficients(db, import_shares, regions_clusters, commodities_clusters)"
   ]
  },
  {
   "cell_type": "markdown",
   "metadata": {},
   "source": [
    "#### Exporting baseline database\n",
    "The baseline database is now ready and can be exported in the desired directory in txt format"
   ]
  },
  {
   "cell_type": "code",
   "execution_count": null,
   "metadata": {},
   "outputs": [],
   "source": [
    "db.to_txt(\n",
    "    paths['database']['baseline'],\n",
    "    flows=False,\n",
    "    coefficients=True\n",
    "    )"
   ]
  },
  {
   "cell_type": "markdown",
   "metadata": {},
   "source": [
    "Baseline database is now ready and stored in the desired directory\n",
    "\n",
    "<br>\n",
    "<br>\n",
    "<br>\n",
    "\n",
    "---\n",
    "\n",
    "<br>"
   ]
  }
 ],
 "metadata": {
  "kernelspec": {
   "display_name": "mario",
   "language": "python",
   "name": "python3"
  },
  "language_info": {
   "codemirror_mode": {
    "name": "ipython",
    "version": 3
   },
   "file_extension": ".py",
   "mimetype": "text/x-python",
   "name": "python",
   "nbconvert_exporter": "python",
   "pygments_lexer": "ipython3",
   "version": "3.10.14"
  }
 },
 "nbformat": 4,
 "nbformat_minor": 2
}
